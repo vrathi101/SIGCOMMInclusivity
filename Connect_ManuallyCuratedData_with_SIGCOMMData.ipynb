{
  "nbformat": 4,
  "nbformat_minor": 0,
  "metadata": {
    "colab": {
      "provenance": [],
      "gpuType": "T4",
      "include_colab_link": true
    },
    "kernelspec": {
      "name": "python3",
      "display_name": "Python 3"
    },
    "language_info": {
      "name": "python"
    },
    "accelerator": "GPU"
  },
  "cells": [
    {
      "cell_type": "markdown",
      "metadata": {
        "id": "view-in-github",
        "colab_type": "text"
      },
      "source": [
        "<a href=\"https://colab.research.google.com/github/vrathi101/SIGCOMMInclusivity/blob/main/Connect_ManuallyCuratedData_with_SIGCOMMData.ipynb\" target=\"_parent\"><img src=\"https://colab.research.google.com/assets/colab-badge.svg\" alt=\"Open In Colab\"/></a>"
      ]
    },
    {
      "cell_type": "code",
      "source": [
        "#install and import libraries which will be used\n",
        "!pip install fuzzywuzzy\n",
        "!pip install levenshtein\n",
        "!pip install gender-guesser\n",
        "from fuzzywuzzy import fuzz\n",
        "import pandas as pd\n",
        "import numpy as np\n",
        "import gender_guesser.detector as gender_detector"
      ],
      "metadata": {
        "id": "IsU63kGd6zDD",
        "colab": {
          "base_uri": "https://localhost:8080/"
        },
        "outputId": "55d59bd6-e045-4d15-8bdb-5e3d59303de4"
      },
      "execution_count": null,
      "outputs": [
        {
          "output_type": "stream",
          "name": "stdout",
          "text": [
            "Looking in indexes: https://pypi.org/simple, https://us-python.pkg.dev/colab-wheels/public/simple/\n",
            "Collecting fuzzywuzzy\n",
            "  Downloading fuzzywuzzy-0.18.0-py2.py3-none-any.whl (18 kB)\n",
            "Installing collected packages: fuzzywuzzy\n",
            "Successfully installed fuzzywuzzy-0.18.0\n",
            "Looking in indexes: https://pypi.org/simple, https://us-python.pkg.dev/colab-wheels/public/simple/\n",
            "Collecting levenshtein\n",
            "  Downloading Levenshtein-0.21.1-cp310-cp310-manylinux_2_17_x86_64.manylinux2014_x86_64.whl (172 kB)\n",
            "\u001b[2K     \u001b[90m━━━━━━━━━━━━━━━━━━━━━━━━━━━━━━━━━━━━━━\u001b[0m \u001b[32m172.5/172.5 kB\u001b[0m \u001b[31m10.7 MB/s\u001b[0m eta \u001b[36m0:00:00\u001b[0m\n",
            "\u001b[?25hCollecting rapidfuzz<4.0.0,>=2.3.0 (from levenshtein)\n",
            "  Downloading rapidfuzz-3.1.1-cp310-cp310-manylinux_2_17_x86_64.manylinux2014_x86_64.whl (3.1 MB)\n",
            "\u001b[2K     \u001b[90m━━━━━━━━━━━━━━━━━━━━━━━━━━━━━━━━━━━━━━━━\u001b[0m \u001b[32m3.1/3.1 MB\u001b[0m \u001b[31m50.8 MB/s\u001b[0m eta \u001b[36m0:00:00\u001b[0m\n",
            "\u001b[?25hInstalling collected packages: rapidfuzz, levenshtein\n",
            "Successfully installed levenshtein-0.21.1 rapidfuzz-3.1.1\n",
            "Looking in indexes: https://pypi.org/simple, https://us-python.pkg.dev/colab-wheels/public/simple/\n",
            "Collecting gender-guesser\n",
            "  Downloading gender_guesser-0.4.0-py2.py3-none-any.whl (379 kB)\n",
            "\u001b[2K     \u001b[90m━━━━━━━━━━━━━━━━━━━━━━━━━━━━━━━━━━━━━━\u001b[0m \u001b[32m379.3/379.3 kB\u001b[0m \u001b[31m14.8 MB/s\u001b[0m eta \u001b[36m0:00:00\u001b[0m\n",
            "\u001b[?25hInstalling collected packages: gender-guesser\n",
            "Successfully installed gender-guesser-0.4.0\n"
          ]
        }
      ]
    },
    {
      "cell_type": "code",
      "execution_count": null,
      "metadata": {
        "id": "db5OWjADFiRS",
        "colab": {
          "base_uri": "https://localhost:8080/"
        },
        "outputId": "67ca920e-d390-41d9-a9f9-aa6f0a128dc7"
      },
      "outputs": [
        {
          "output_type": "stream",
          "name": "stdout",
          "text": [
            "Mounted at /content/gdrive\n"
          ]
        }
      ],
      "source": [
        "from google.colab import drive\n",
        "drive.mount('/content/gdrive')"
      ]
    },
    {
      "cell_type": "markdown",
      "source": [
        "Reading and displaying the PublisherNames csv which was written as a csv in the last Google Colab."
      ],
      "metadata": {
        "id": "gVNeiup-p-Ut"
      }
    },
    {
      "cell_type": "code",
      "source": [
        "proj_path = '/content/gdrive/MyDrive/Colab Notebooks/save_data/'\n",
        "dfSigcomm = pd.read_csv(proj_path + 'SIGCOMMNames.csv')"
      ],
      "metadata": {
        "id": "ZzEGbwy7HMxs"
      },
      "execution_count": null,
      "outputs": []
    },
    {
      "cell_type": "code",
      "source": [
        "# display some data characteristics\n",
        "for column_name, column_type in zip(dfSigcomm.columns, dfSigcomm.dtypes):\n",
        "    print(f\"Column Name: {column_name}, Data Type: {column_type}\")\n",
        "print(len(dfSigcomm))\n",
        "print(dfSigcomm.head(5))"
      ],
      "metadata": {
        "id": "Udsov2hrH3W6",
        "colab": {
          "base_uri": "https://localhost:8080/"
        },
        "outputId": "d9865364-b6bb-41c9-da32-9dd1cf2a1b40"
      },
      "execution_count": null,
      "outputs": [
        {
          "output_type": "stream",
          "name": "stdout",
          "text": [
            "Column Name: name, Data Type: object\n",
            "Column Name: year, Data Type: int64\n",
            "Column Name: committee, Data Type: object\n",
            "Column Name: region, Data Type: object\n",
            "Column Name: cleanedName, Data Type: object\n",
            "Column Name: cleanedRegion, Data Type: object\n",
            "Column Name: Continent, Data Type: object\n",
            "1241\n",
            "                        name  year   committee                      region  \\\n",
            "0            Pablo Rodriguez  2009  Organizing  Telefonica Research, Spain   \n",
            "1             Ernst Biersack  2009  Organizing             Eurecom, France   \n",
            "2  Konstantina  Papagiannaki  2009  Organizing  Intel Labs Pittsburgh, USA   \n",
            "3                Luigi Rizzo  2009  Organizing   Universit� di Pisa, Italy   \n",
            "4            Christophe Diot  2009  Organizing             Thomson, France   \n",
            "\n",
            "                 cleanedName               cleanedRegion Continent  \n",
            "0            Pablo Rodriguez  Telefonica Research, Spain        EU  \n",
            "1             Ernst Biersack             Eurecom, France        EU  \n",
            "2  Konstantina  Papagiannaki  Intel Labs Pittsburgh, USA     NorAm  \n",
            "3                Luigi Rizzo    Universit di Pisa, Italy        EU  \n",
            "4            Christophe Diot             Thomson, France        EU  \n"
          ]
        }
      ]
    },
    {
      "cell_type": "markdown",
      "source": [
        "Uploading the manually-curated researchers data CSV into the Colab and adjusting as needed, including removing duplicates and selecting desired columns.\n",
        "Imported the Researcher CSV with manually curated researcher data for many committees, including SIGCOMM. Then made adjustments as needed icluding removing duplicates and selecting desired columns."
      ],
      "metadata": {
        "id": "lsUBiwgMqKTh"
      }
    },
    {
      "cell_type": "code",
      "source": [
        "# Function to decode the string with fallback encoding\n",
        "def decode_with_fallback(text, primary_encoding, fallback_encoding):\n",
        "    try:\n",
        "        if isinstance(text, str):\n",
        "            return text.encode(primary_encoding).decode(primary_encoding)\n",
        "        else:\n",
        "            return str(text).encode(fallback_encoding).decode(fallback_encoding)\n",
        "    except UnicodeDecodeError:\n",
        "        return str(text).encode(fallback_encoding).decode(fallback_encoding)\n",
        "\n",
        "\n",
        "dfResearchers = pd.read_csv(proj_path + 'researcher.csv')\n",
        "# Specify the columns to extract from the 'researchers' DataFrame\n",
        "columns_to_extract =['Name','Female or NB', 'Region']\n",
        "# Create a new DataFrame 'dfResearcher' with the selected columns\n",
        "dfResearcher = dfResearchers[columns_to_extract]\n",
        "dfResearcher.rename(columns={'Female or NB': 'Gender'}, inplace=True)\n",
        "dfResearcher['Gender'] = dfResearcher['Gender'].replace({float('Nan'): 'Male', 1.0: 'Female'})\n",
        "dfResearcher['Region'].fillna('NorAm', inplace=True)\n",
        "print(len(dfResearcher))\n",
        "print(dfResearcher.groupby(['Gender'])['Gender'].count())\n",
        "# Apply the decoding function to create the 'cleanedName' column\n",
        "dfResearcher['cleanedName'] = dfResearcher['Name'].apply(lambda x: decode_with_fallback(x, 'utf-8', 'unicode_escape'))\n",
        "dfResearcher.drop_duplicates(subset = 'cleanedName', inplace=True)\n",
        "print(dfResearcher.head())"
      ],
      "metadata": {
        "id": "GsG0JZZ1IIcm",
        "colab": {
          "base_uri": "https://localhost:8080/"
        },
        "outputId": "b1cb1e2a-4194-4b84-909b-531c035a1c06"
      },
      "execution_count": null,
      "outputs": [
        {
          "output_type": "stream",
          "name": "stdout",
          "text": [
            "941\n",
            "Gender\n",
            "Female    146\n",
            "Male      795\n",
            "Name: Gender, dtype: int64\n",
            "              Name  Gender Region      cleanedName\n",
            "0  Sergey Gorinsky    Male     EU  Sergey Gorinsky\n",
            "1   Hitesh Ballani    Male     EU   Hitesh Ballani\n",
            "2     Haya Shulman  Female     EU     Haya Shulman\n",
            "3  Rüdiger Birkner    Male     EU  Rüdiger Birkner\n",
            "4     Klaus Wehrle    Male     EU     Klaus Wehrle\n"
          ]
        },
        {
          "output_type": "stream",
          "name": "stderr",
          "text": [
            "<ipython-input-5-cff168d87afb>:17: SettingWithCopyWarning: \n",
            "A value is trying to be set on a copy of a slice from a DataFrame\n",
            "\n",
            "See the caveats in the documentation: https://pandas.pydata.org/pandas-docs/stable/user_guide/indexing.html#returning-a-view-versus-a-copy\n",
            "  dfResearcher.rename(columns={'Female or NB': 'Gender'}, inplace=True)\n",
            "<ipython-input-5-cff168d87afb>:18: SettingWithCopyWarning: \n",
            "A value is trying to be set on a copy of a slice from a DataFrame.\n",
            "Try using .loc[row_indexer,col_indexer] = value instead\n",
            "\n",
            "See the caveats in the documentation: https://pandas.pydata.org/pandas-docs/stable/user_guide/indexing.html#returning-a-view-versus-a-copy\n",
            "  dfResearcher['Gender'] = dfResearcher['Gender'].replace({float('Nan'): 'Male', 1.0: 'Female'})\n",
            "<ipython-input-5-cff168d87afb>:19: SettingWithCopyWarning: \n",
            "A value is trying to be set on a copy of a slice from a DataFrame\n",
            "\n",
            "See the caveats in the documentation: https://pandas.pydata.org/pandas-docs/stable/user_guide/indexing.html#returning-a-view-versus-a-copy\n",
            "  dfResearcher['Region'].fillna('NorAm', inplace=True)\n",
            "<ipython-input-5-cff168d87afb>:23: SettingWithCopyWarning: \n",
            "A value is trying to be set on a copy of a slice from a DataFrame.\n",
            "Try using .loc[row_indexer,col_indexer] = value instead\n",
            "\n",
            "See the caveats in the documentation: https://pandas.pydata.org/pandas-docs/stable/user_guide/indexing.html#returning-a-view-versus-a-copy\n",
            "  dfResearcher['cleanedName'] = dfResearcher['Name'].apply(lambda x: decode_with_fallback(x, 'utf-8', 'unicode_escape'))\n",
            "<ipython-input-5-cff168d87afb>:24: SettingWithCopyWarning: \n",
            "A value is trying to be set on a copy of a slice from a DataFrame\n",
            "\n",
            "See the caveats in the documentation: https://pandas.pydata.org/pandas-docs/stable/user_guide/indexing.html#returning-a-view-versus-a-copy\n",
            "  dfResearcher.drop_duplicates(subset = 'cleanedName', inplace=True)\n"
          ]
        }
      ]
    },
    {
      "cell_type": "markdown",
      "source": [
        "Adding columns to dfSigcomm (original) dataframe by comparing it with dfResearcher dataframe based on the full name of a committee member and a fuzzy match. Another column is used for the gender-guesser library which guesses the gender for every SIGCOMM member in dfSigcomm.\n",
        "Additionally, for all the committee members whose continent of location could not be determined, it will check if the dfResearcher has these names with their regions and add it in accordingly."
      ],
      "metadata": {
        "id": "9IRZPZG7rvTp"
      }
    },
    {
      "cell_type": "code",
      "source": [
        "#add a DirectMatch column which puts in gender if found in dfResearcher based on code\n",
        "dfSigcomm['DirectMatch'] = ''\n",
        "for index, row in dfSigcomm.iterrows():\n",
        "  chkName=row['cleanedName']\n",
        "  gender=''\n",
        "  if (chkName in dfResearcher['cleanedName'].values):\n",
        "    first_location  = dfResearcher.loc[dfResearcher['cleanedName'] == chkName].index[0]\n",
        "    gender = dfResearcher.loc[first_location, 'Gender']\n",
        "    dfSigcomm.at[index, 'DirectMatch'] = gender\n",
        "print(dfSigcomm.groupby(['DirectMatch'])['DirectMatch'].count())\n",
        "\n",
        "#add a FuzzyMatch column which puts in gender if found in dfResearcher based on code\n",
        "dfSigcomm['FuzzyMatch'] = ''\n",
        "for idx, row in dfSigcomm.iterrows():\n",
        "    name_updated = row['cleanedName']\n",
        "    region_updated = row['cleanedRegion']\n",
        "    continent = row['Continent']\n",
        "    best_match = None\n",
        "    best_score = 0\n",
        "    researcher_row = None\n",
        "    for _, research_row in dfResearcher.iterrows():\n",
        "        name_research = research_row['cleanedName']\n",
        "        score = fuzz.token_set_ratio(name_updated, name_research)\n",
        "        if score > best_score and score > 90:\n",
        "            best_match = research_row['Gender']\n",
        "            best_score = score\n",
        "            researcher_row = research_row\n",
        "        if score == 100:  # If perfect match, break the loop\n",
        "            break\n",
        "    dfSigcomm.loc[idx, 'FuzzyMatch'] = best_match\n",
        "    if pd.isna(continent) and researcher_row is not None:\n",
        "      dfSigcomm.loc[idx, 'Continent'] = researcher_row['Region']\n",
        "print(dfSigcomm.groupby(['FuzzyMatch'])['FuzzyMatch'].count())\n",
        "\n",
        "#add a GenderGuesser column which puts in gender if found in dfResearcher based on code\n",
        "dfSigcomm['GenderGuesser']=''\n",
        "def guess_gender(first_name):\n",
        "    # Initialize gender detector\n",
        "    d = gender_detector.Detector()\n",
        "    # Get the gender of the first name\n",
        "    gender = d.get_gender(first_name)\n",
        "    return gender\n",
        "for idx, row in dfSigcomm.iterrows():\n",
        "  Name = row['cleanedName']\n",
        "  gender=guess_gender(Name.split()[0])\n",
        "  dfSigcomm.loc[idx, 'GenderGuesser'] = gender\n",
        "print(dfSigcomm.groupby(['GenderGuesser'])['GenderGuesser'].count())"
      ],
      "metadata": {
        "id": "TGyKlHw8Jj27",
        "colab": {
          "base_uri": "https://localhost:8080/"
        },
        "outputId": "e695e2a9-9301-41ec-8e90-e99f05f132b7"
      },
      "execution_count": null,
      "outputs": [
        {
          "output_type": "stream",
          "name": "stdout",
          "text": [
            "DirectMatch\n",
            "          283\n",
            "Female    209\n",
            "Male      749\n",
            "Name: DirectMatch, dtype: int64\n",
            "FuzzyMatch\n",
            "Female    240\n",
            "Male      878\n",
            "Name: FuzzyMatch, dtype: int64\n",
            "GenderGuesser\n",
            "andy              72\n",
            "female           179\n",
            "male             636\n",
            "mostly_female     15\n",
            "mostly_male       23\n",
            "unknown          316\n",
            "Name: GenderGuesser, dtype: int64\n"
          ]
        }
      ]
    },
    {
      "cell_type": "markdown",
      "source": [
        "Changing the names of the values in the 'Continent' column to their full names. This will be used in the graphs in the next Google Colab."
      ],
      "metadata": {
        "id": "f5ZhnyrCgqhW"
      }
    },
    {
      "cell_type": "code",
      "source": [
        "continent_mapping = {\n",
        "    'NorAm': 'North America',\n",
        "    'AS': 'Asia',\n",
        "    'Asia': 'Asia',\n",
        "    'OC': 'Australia',\n",
        "    'Australia': 'Australia',\n",
        "    'SA': 'South America',\n",
        "    'Africa': 'Africa',\n",
        "    'AF': 'Africa',\n",
        "    'EU': 'Europe'\n",
        "}\n",
        "dfSigcomm['Continent'] = dfSigcomm['Continent'].replace(continent_mapping)"
      ],
      "metadata": {
        "id": "Q24-ire1eCur"
      },
      "execution_count": null,
      "outputs": []
    },
    {
      "cell_type": "markdown",
      "source": [
        "Making final adjustments to the dfSigcomm dataframe to prepare it for data visualization."
      ],
      "metadata": {
        "id": "xBhRI98YyuTi"
      }
    },
    {
      "cell_type": "code",
      "source": [
        "name_pairs = [\n",
        "    ('Jitendra Padhye', 'Jitu Padhye'),\n",
        "    ('Jaorg Ott', 'Joerg Ott'),\n",
        "    ('Zhi-Li Zhang', 'Zhili Zhang')\n",
        "]\n",
        "for name_a, name_b in name_pairs:\n",
        "    rows_a = dfSigcomm[dfSigcomm['cleanedName'] == name_a]\n",
        "    rows_b = dfSigcomm[dfSigcomm['cleanedName'] == name_b]\n",
        "    data_copy = rows_a.drop(columns=['year', 'committee', 'name', 'cleanedName']).iloc[0]\n",
        "\n",
        "    for index, row in rows_b.iterrows():\n",
        "        for column in data_copy.index:\n",
        "            if column not in ['year', 'committee', 'name', 'cleanedName']:\n",
        "                value = data_copy[column]\n",
        "                dfSigcomm.at[index, column] = value\n",
        "print(dfSigcomm)"
      ],
      "metadata": {
        "colab": {
          "base_uri": "https://localhost:8080/"
        },
        "id": "6GYR5NThhqL6",
        "outputId": "de6a600e-c440-44a1-9dbc-605b5e7a090e"
      },
      "execution_count": null,
      "outputs": [
        {
          "output_type": "stream",
          "name": "stdout",
          "text": [
            "                           name  year   committee  \\\n",
            "0               Pablo Rodriguez  2009  Organizing   \n",
            "1                Ernst Biersack  2009  Organizing   \n",
            "2     Konstantina  Papagiannaki  2009  Organizing   \n",
            "3                   Luigi Rizzo  2009  Organizing   \n",
            "4               Christophe Diot  2009  Organizing   \n",
            "...                         ...   ...         ...   \n",
            "1236                 Yiting Xia  2023     Program   \n",
            "1237               Yiying Zhang  2023     Program   \n",
            "1238                     Yu Hua  2023     Program   \n",
            "1239                 Yunxin Liu  2023     Program   \n",
            "1240              Zhizhen Zhong  2023     Program   \n",
            "\n",
            "                                                 region  \\\n",
            "0                            Telefonica Research, Spain   \n",
            "1                                       Eurecom, France   \n",
            "2                            Intel Labs Pittsburgh, USA   \n",
            "3                             Universit� di Pisa, Italy   \n",
            "4                                       Thomson, France   \n",
            "...                                                 ...   \n",
            "1236               Max Planck Institute for Informatics   \n",
            "1237                University of California, San Diego   \n",
            "1238      Huazhong University of Science and Technology   \n",
            "1239  Institute for AI Industry Research (AIR), Tsin...   \n",
            "1240              Massachusetts Institute of Technology   \n",
            "\n",
            "                    cleanedName  \\\n",
            "0               Pablo Rodriguez   \n",
            "1                Ernst Biersack   \n",
            "2     Konstantina  Papagiannaki   \n",
            "3                   Luigi Rizzo   \n",
            "4               Christophe Diot   \n",
            "...                         ...   \n",
            "1236                 Yiting Xia   \n",
            "1237               Yiying Zhang   \n",
            "1238                     Yu Hua   \n",
            "1239                 Yunxin Liu   \n",
            "1240              Zhizhen Zhong   \n",
            "\n",
            "                                          cleanedRegion      Continent  \\\n",
            "0                            Telefonica Research, Spain         Europe   \n",
            "1                                       Eurecom, France         Europe   \n",
            "2                            Intel Labs Pittsburgh, USA  North America   \n",
            "3                              Universit di Pisa, Italy         Europe   \n",
            "4                                       Thomson, France         Europe   \n",
            "...                                                 ...            ...   \n",
            "1236               Max Planck Institute for Informatics         Europe   \n",
            "1237                University of California, San Diego  North America   \n",
            "1238      Huazhong University of Science and Technology           Asia   \n",
            "1239  Institute for AI Industry Research (AIR), Tsin...           Asia   \n",
            "1240              Massachusetts Institute of Technology  North America   \n",
            "\n",
            "     DirectMatch FuzzyMatch GenderGuesser  \n",
            "0                      Male          male  \n",
            "1                      Male          male  \n",
            "2                    Female        female  \n",
            "3           Male       Male          male  \n",
            "4           Male       Male          male  \n",
            "...          ...        ...           ...  \n",
            "1236      Female     Female       unknown  \n",
            "1237      Female     Female       unknown  \n",
            "1238        Male       Male          andy  \n",
            "1239        Male       Male       unknown  \n",
            "1240        Male       Male       unknown  \n",
            "\n",
            "[1241 rows x 10 columns]\n"
          ]
        }
      ]
    },
    {
      "cell_type": "markdown",
      "source": [
        "We write the current dataframe into a CSV file which will be read and analyzed in the next Google Colab."
      ],
      "metadata": {
        "id": "yET-_l2ktVxi"
      }
    },
    {
      "cell_type": "code",
      "source": [
        "dfSigcomm.to_csv(\"/content/gdrive/My Drive/Colab Notebooks/save_data/SIGCOMMNamesAdjusted.csv\", sep=',', index=False, encoding='utf-8')"
      ],
      "metadata": {
        "id": "fwBGuCSWHBiA"
      },
      "execution_count": null,
      "outputs": []
    }
  ]
}