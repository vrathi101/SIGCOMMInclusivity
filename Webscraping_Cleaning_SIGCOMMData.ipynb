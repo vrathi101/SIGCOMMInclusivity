{
  "nbformat": 4,
  "nbformat_minor": 0,
  "metadata": {
    "colab": {
      "provenance": [],
      "include_colab_link": true
    },
    "kernelspec": {
      "name": "python3",
      "display_name": "Python 3"
    },
    "language_info": {
      "name": "python"
    }
  },
  "cells": [
    {
      "cell_type": "markdown",
      "metadata": {
        "id": "view-in-github",
        "colab_type": "text"
      },
      "source": [
        "<a href=\"https://colab.research.google.com/github/vrathi101/SIGCOMMInclusivity/blob/main/Webscraping_Cleaning_SIGCOMMData.ipynb\" target=\"_parent\"><img src=\"https://colab.research.google.com/assets/colab-badge.svg\" alt=\"Open In Colab\"/></a>"
      ]
    },
    {
      "cell_type": "markdown",
      "source": [
        "Install and import necessary Python libraries for subsequent code (these libraries will be used throughout the Google Colabs.\n",
        "1. Fuzzywuzzy is used for string matching (comparing strings which aren't identical but may have differences caused by typos, abbreviations, etc.). I used this when there weren't exact matches between the committee member dataframe and the researchers csv.\n",
        "2. Levenshtein is used to measure the \"distance\" between strings which will be used for fuzzy comparing.\n",
        "3. Beautifulsoup4 is used for webscraping. I used webscraping to extract the committee members for each year for SIGCOMM.\n",
        "4. Gender-guesser is used to guess the gender of a person based on their first name. It have 6 possible outputs: 'male', 'mostly_male', 'female', 'mostly_female', 'andy', and 'unknown'. I used this for the names which had a fuzzy ratio of less than the fixed threshold when compared to every name in the researchers csv.\n",
        "5. Unidecode is used to turn weird characters, like letters with accents or unprintable characters, into regular ones to make it easier for matching.\n",
        "6. GeonamesCache was used to convert country names into the continents where they are located.\n",
        "7. GeoText is used to extract words like a city or location from a longer text.\n",
        "8. Ipywidgets adds interactivity to dataframes where users can visualize and organize the data as they wish. The library uses click events to show the desired results."
      ],
      "metadata": {
        "id": "CFiK2XMHZML5"
      }
    },
    {
      "cell_type": "code",
      "execution_count": null,
      "metadata": {
        "id": "6sk4SH1oY595"
      },
      "outputs": [],
      "source": [
        "#install all packages\n",
        "!pip install fuzzywuzzy\n",
        "!pip install levenshtein\n",
        "!pip install requests beautifulsoup4\n",
        "!pip install gender-guesser\n",
        "!pip install unidecode\n",
        "!pip install GeonamesCache\n",
        "!pip install GeoText\n",
        "!pip install ipywidgets\n",
        "!pip install ipywidgets"
      ]
    },
    {
      "cell_type": "markdown",
      "source": [
        "Import all of the libraries we will be using."
      ],
      "metadata": {
        "id": "nVLh97NEZqTe"
      }
    },
    {
      "cell_type": "code",
      "source": [
        "import pandas as pd\n",
        "import numpy as np\n",
        "from fuzzywuzzy import fuzz\n",
        "import requests\n",
        "from bs4 import BeautifulSoup\n",
        "import matplotlib.pyplot as plt\n",
        "import gender_guesser.detector as gender_detector\n",
        "from unidecode import unidecode\n",
        "import re\n",
        "from geonamescache import GeonamesCache\n",
        "from geotext import GeoText"
      ],
      "metadata": {
        "id": "TMX-KzNUZDBj"
      },
      "execution_count": 2,
      "outputs": []
    },
    {
      "cell_type": "code",
      "source": [
        "from google.colab import drive\n",
        "drive.mount('/content/gdrive')"
      ],
      "metadata": {
        "colab": {
          "base_uri": "https://localhost:8080/"
        },
        "id": "5jU_u_oEt3u8",
        "outputId": "0815bba1-3456-4905-8e10-43a70eebe7a2"
      },
      "execution_count": 3,
      "outputs": [
        {
          "output_type": "stream",
          "name": "stdout",
          "text": [
            "Mounted at /content/gdrive\n"
          ]
        }
      ]
    },
    {
      "cell_type": "markdown",
      "source": [
        "Using webscraping to extract all the organizational committee and program committee members and their institutions for SIGCOMM from 2014-2023, inclusive, and then adding all the names/regions, categorized by year and committee type, into a dataframe."
      ],
      "metadata": {
        "id": "OEdS-KNuZwbl"
      }
    },
    {
      "cell_type": "code",
      "source": [
        "# Create an empty DataFrame with columns for name, year, and committee\n",
        "dfSigcomm = pd.DataFrame(columns=['name', 'year', 'committee','region'])\n",
        "committee=\"Organizing\"\n",
        "# Loop through the years 2009-2023\n",
        "for year in range(2009, 2024):\n",
        "  # Determine the URL based on the year\n",
        "  if year >= 2012:\n",
        "    if year in [2016, 2014, 2013, 2012]:\n",
        "      url = f\"https://conferences.sigcomm.org/sigcomm/{year}/organization.php\"\n",
        "    elif year == 2015:\n",
        "      url = \"https://conferences.sigcomm.org/sigcomm/2015/organisation.php\"\n",
        "    else:\n",
        "      url = f\"https://conferences.sigcomm.org/sigcomm/{year}/org-committee.html\"\n",
        "    # Send a GET request to the URL and retrieve the response\n",
        "    response = requests.get(url)\n",
        "    # Create a BeautifulSoup object to parse the HTML response\n",
        "    soup = BeautifulSoup(response.text, \"html.parser\")\n",
        "    # Select the HTML elements that contain the names of committee members\n",
        "    name_elements = soup.select('div.ui-grid-a div.ui-block-a p')\n",
        "    # Extract the names from the HTML elements and strip any whitespace\n",
        "    member_name = [name.text.strip() for name in name_elements]\n",
        "    # Select the HTML elements that contain the regions of committee members\n",
        "    region_elements = soup.select('div.ui-grid-a div.ui-block-b p')\n",
        "    # Extract the regions from the HTML elements and strip any whitespace\n",
        "    region_name = [region.text.strip() for region in region_elements]\n",
        "    #add data to a dataframe and concatenate with the original\n",
        "    df = pd.DataFrame({'name': member_name, 'year': year, 'committee': committee, 'region': region_name})\n",
        "    dfSigcomm = pd.concat([dfSigcomm, df], ignore_index=False)\n",
        "  elif year in [2011, 2010, 2009]:\n",
        "      # Create the URL with the specified year\n",
        "      url = f\"https://conferences.sigcomm.org/sigcomm/{year}/organization.php\"\n",
        "      # Send a GET request to the URL and retrieve the response\n",
        "      response = requests.get(url)\n",
        "      # Create a BeautifulSoup object to parse the HTML response\n",
        "      soup = BeautifulSoup(response.text, \"html.parser\")\n",
        "      # Find the <div> element with the id \"contents\"\n",
        "      contents_div = soup.find(\"div\", id=\"contents\")\n",
        "      if contents_div:\n",
        "          if year == 2010:\n",
        "              # Find the <h2> element with the text \"Organizing Committee\"\n",
        "              committee_header = contents_div.find(\"h2\", string=\"Organizing Committee\")\n",
        "          else:\n",
        "              # Find the <h2> element with the text \"Committee\"\n",
        "              committee_header = contents_div.find(\"h2\", string=\"Committee\")\n",
        "          if committee_header:\n",
        "              # Find the table following the <h2> element\n",
        "              committee_table = committee_header.find_next_sibling(\"table\")\n",
        "              if committee_table:\n",
        "                  # Find all <tr> elements within the table's <tbody>\n",
        "                  committee_members = committee_table.find_all(\"tr\")\n",
        "                  for member in committee_members:\n",
        "                      # Find the first <td> element within each <tr>\n",
        "                      name_cell = member.find_all(\"td\")\n",
        "                      if name_cell:\n",
        "                          member_name = name_cell[0].get_text(strip=True)\n",
        "                          if len(name_cell) >= 2:\n",
        "                              region = name_cell[1]\n",
        "                              region_name = region.get_text(strip=True)\n",
        "                              # Add the name to the final DataFrame\n",
        "                              df = pd.DataFrame({'name': [member_name], 'year': year, 'committee': 'Organizing', 'region': [region_name]})\n",
        "                              dfSigcomm = pd.concat([dfSigcomm, df], ignore_index=True)\n",
        "                          else:\n",
        "                              df = pd.DataFrame({'name': [member_name], 'year': year, 'committee': 'Organizing'})\n",
        "                              dfSigcomm = pd.concat([dfSigcomm, df], ignore_index=True)\n",
        "# Print the final DataFrame\n",
        "print(dfSigcomm.head(10))\n",
        "print(len(dfSigcomm))\n",
        "print(dfSigcomm.groupby(['year', 'committee'])['year', 'committee'].count())"
      ],
      "metadata": {
        "colab": {
          "base_uri": "https://localhost:8080/"
        },
        "id": "HpmYcWthZOPW",
        "outputId": "c010ee19-bd4c-464a-f95d-97404f099270"
      },
      "execution_count": 4,
      "outputs": [
        {
          "output_type": "stream",
          "name": "stdout",
          "text": [
            "                        name  year   committee  \\\n",
            "0            Pablo Rodriguez  2009  Organizing   \n",
            "1             Ernst Biersack  2009  Organizing   \n",
            "2  Konstantina  Papagiannaki  2009  Organizing   \n",
            "3                Luigi Rizzo  2009  Organizing   \n",
            "4            Christophe Diot  2009  Organizing   \n",
            "5                Dolors Sala  2009  Organizing   \n",
            "6      Jaudelice de Oliveira  2009  Organizing   \n",
            "7  Balachander Krishnamurthy  2009  Organizing   \n",
            "8               Ant Rowstron  2009  Organizing   \n",
            "9              Laurent Mathy  2009  Organizing   \n",
            "\n",
            "                            region  \n",
            "0       Telefonica Research, Spain  \n",
            "1                  Eurecom, France  \n",
            "2       Intel Labs Pittsburgh, USA  \n",
            "3        Universit� di Pisa, Italy  \n",
            "4                  Thomson, France  \n",
            "5  Universitat Pompeu Fabra, Spain  \n",
            "6           Drexel University, USA  \n",
            "7          AT&T Labs-Research, USA  \n",
            "8           Microsoft Research, UK  \n",
            "9         Lancaster University, UK  \n",
            "427\n",
            "                 year  committee\n",
            "year committee                  \n",
            "2009 Organizing    21         21\n",
            "2010 Organizing    24         24\n",
            "2011 Organizing    17         17\n",
            "2012 Organizing    18         18\n",
            "2013 Organizing    25         25\n",
            "2014 Organizing    26         26\n",
            "2015 Organizing    33         33\n",
            "2016 Organizing    33         33\n",
            "2017 Organizing    33         33\n",
            "2018 Organizing    38         38\n",
            "2019 Organizing    44         44\n",
            "2020 Organizing    26         26\n",
            "2021 Organizing    31         31\n",
            "2022 Organizing    33         33\n",
            "2023 Organizing    25         25\n"
          ]
        },
        {
          "output_type": "stream",
          "name": "stderr",
          "text": [
            "<ipython-input-4-4f7bc7a76dac>:68: FutureWarning: Indexing with multiple keys (implicitly converted to a tuple of keys) will be deprecated, use a list instead.\n",
            "  print(dfSigcomm.groupby(['year', 'committee'])['year', 'committee'].count())\n"
          ]
        }
      ]
    },
    {
      "cell_type": "code",
      "source": [
        "# Loop through the years 2009-2023\n",
        "for year in range(2009, 2024):\n",
        "  if year >= 2012:\n",
        "    # Determine the URL based on the year\n",
        "    if year in [2016, 2015, 2014]:\n",
        "      url = f\"https://conferences.sigcomm.org/sigcomm/{year}/pc.php\"\n",
        "    elif year in [2013, 2012]:\n",
        "      url = f\"https://conferences.sigcomm.org/sigcomm/{year}/pclist.php\"\n",
        "    else:\n",
        "      url = f\"https://conferences.sigcomm.org/sigcomm/{year}/tpc.html\"\n",
        "    # Send a GET request to the URL and retrieve the response\n",
        "    response = requests.get(url)\n",
        "    # Create a BeautifulSoup object to parse the HTML response\n",
        "    soup = BeautifulSoup(response.text, \"html.parser\")\n",
        "    # Select the HTML elements that contain the names of committee members\n",
        "    name_elements = soup.select('div.ui-grid-a div.ui-block-a p')\n",
        "    # Extract the names from the HTML elements and strip any whitespace\n",
        "    member_name = [name.text.strip() for name in name_elements]\n",
        "    # Select the HTML elements that contain the regions of committee members\n",
        "    region_elements = soup.select('div.ui-grid-a div.ui-block-b p')\n",
        "    # Extract the regions from the HTML elements and strip any whitespace\n",
        "    region_name = [region.text.strip() for region in region_elements]\n",
        "    #add data to a dataframe and concatenate with the original\n",
        "    df = pd.DataFrame({'name': member_name, 'year': year, 'committee': 'Program', 'region': region_name})\n",
        "    dfSigcomm = pd.concat([dfSigcomm, df], ignore_index=False)\n",
        "  else:\n",
        "    # Create the URL with the specified year\n",
        "    url = f\"https://conferences.sigcomm.org/sigcomm/{year}/organization.php\"\n",
        "    # Send a GET request to the URL and retrieve the response\n",
        "    response = requests.get(url)\n",
        "    # Create a BeautifulSoup object to parse the HTML response\n",
        "    soup = BeautifulSoup(response.text, \"html.parser\")\n",
        "    # Find the <div> element with the id \"contents\"\n",
        "    contents_div = soup.find(\"div\", id=\"contents\")\n",
        "    if contents_div:\n",
        "        if year == 2010:\n",
        "            # Find the <h2> element with the text \"Organizing Committee\"\n",
        "            committee_header = contents_div.find(\"h2\", string=\"Technical Program Committee\")\n",
        "        else:\n",
        "            # Find the <h2> element with the text \"Committee\"\n",
        "            committee_header = contents_div.find(\"h2\", string=\"Program Committee\")\n",
        "        if committee_header:\n",
        "            # Find the table following the <h2> element\n",
        "            committee_table = committee_header.find_next_sibling(\"table\")\n",
        "            if committee_table:\n",
        "                # Find all <tr> elements within the table's <tbody>\n",
        "                committee_members = committee_table.find_all(\"tr\")\n",
        "                for member in committee_members:\n",
        "                      # Find the first <td> element within each <tr> which will have the name\n",
        "                      name_cell = member.find_all(\"td\")\n",
        "                      if name_cell:\n",
        "                          #search for the other <td> element which will have the region\n",
        "                          member_name = name_cell[0].get_text(strip=True)\n",
        "                          if len(name_cell) >= 2:\n",
        "                              region = name_cell[1]\n",
        "                              region_name = region.get_text(strip=True)\n",
        "                              # Add the name to the final DataFrame via concatenation\n",
        "                              df = pd.DataFrame({'name': [member_name], 'year': year, 'committee': 'Program', 'region': [region_name]})\n",
        "                              dfSigcomm = pd.concat([dfSigcomm, df], ignore_index=True)\n",
        "                          else:\n",
        "                              df = pd.DataFrame({'name': [member_name], 'year': year, 'committee': 'Program'})\n",
        "                              dfSigcomm = pd.concat([dfSigcomm, df], ignore_index=True)\n",
        "\n",
        "# Print the final DataFrame\n",
        "print(dfSigcomm.head(5))\n",
        "print(len(dfSigcomm))\n",
        "print(dfSigcomm.groupby(['year', 'committee'])['year', 'committee'].count())"
      ],
      "metadata": {
        "id": "N25cUHBJZZG5",
        "colab": {
          "base_uri": "https://localhost:8080/"
        },
        "outputId": "c0df3a06-69fc-4bba-a553-39ba414288df"
      },
      "execution_count": 5,
      "outputs": [
        {
          "output_type": "stream",
          "name": "stdout",
          "text": [
            "                        name  year   committee                      region\n",
            "0            Pablo Rodriguez  2009  Organizing  Telefonica Research, Spain\n",
            "1             Ernst Biersack  2009  Organizing             Eurecom, France\n",
            "2  Konstantina  Papagiannaki  2009  Organizing  Intel Labs Pittsburgh, USA\n",
            "3                Luigi Rizzo  2009  Organizing   Universit� di Pisa, Italy\n",
            "4            Christophe Diot  2009  Organizing             Thomson, France\n",
            "1250\n",
            "                 year  committee\n",
            "year committee                  \n",
            "2009 Organizing    21         21\n",
            "     Program       60         60\n",
            "2010 Organizing    24         24\n",
            "     Program       50         50\n",
            "2011 Organizing    17         17\n",
            "     Program       52         52\n",
            "2012 Organizing    18         18\n",
            "     Program       51         51\n",
            "2013 Organizing    25         25\n",
            "     Program       35         35\n",
            "2014 Organizing    26         26\n",
            "     Program       54         54\n",
            "2015 Organizing    33         33\n",
            "     Program       51         51\n",
            "2016 Organizing    33         33\n",
            "     Program       56         56\n",
            "2017 Organizing    33         33\n",
            "     Program       59         59\n",
            "2018 Organizing    38         38\n",
            "     Program       50         50\n",
            "2019 Organizing    44         44\n",
            "     Program       61         61\n",
            "2020 Organizing    26         26\n",
            "     Program       56         56\n",
            "2021 Organizing    31         31\n",
            "     Program       60         60\n",
            "2022 Organizing    33         33\n",
            "     Program       67         67\n",
            "2023 Organizing    25         25\n",
            "     Program       61         61\n"
          ]
        },
        {
          "output_type": "stream",
          "name": "stderr",
          "text": [
            "<ipython-input-5-9d06825e4c55>:67: FutureWarning: Indexing with multiple keys (implicitly converted to a tuple of keys) will be deprecated, use a list instead.\n",
            "  print(dfSigcomm.groupby(['year', 'committee'])['year', 'committee'].count())\n"
          ]
        }
      ]
    },
    {
      "cell_type": "markdown",
      "source": [
        "Making adjustments to the dataframe to proceed with further analysis."
      ],
      "metadata": {
        "id": "KmQlxiQXJr19"
      }
    },
    {
      "cell_type": "code",
      "source": [
        "#removing any duplicate names that appear in the same year and committee type\n",
        "grouped = dfSigcomm.groupby(['year', 'committee'])\n",
        "dfSigcomm = dfSigcomm[~grouped['name'].transform(lambda x: x.duplicated())]\n",
        "#reindexing the dataframe to avoid future problems\n",
        "dfSigcomm.reset_index(drop=True, inplace=True)\n",
        "#printing\n",
        "print(dfSigcomm.head(5))\n",
        "print(len(dfSigcomm))"
      ],
      "metadata": {
        "colab": {
          "base_uri": "https://localhost:8080/"
        },
        "id": "XKbj3BZ3Zd0T",
        "outputId": "db7b8088-bfc5-4a9f-ac96-b64d84d1b018"
      },
      "execution_count": 6,
      "outputs": [
        {
          "output_type": "stream",
          "name": "stdout",
          "text": [
            "                        name  year   committee                      region\n",
            "0            Pablo Rodriguez  2009  Organizing  Telefonica Research, Spain\n",
            "1             Ernst Biersack  2009  Organizing             Eurecom, France\n",
            "2  Konstantina  Papagiannaki  2009  Organizing  Intel Labs Pittsburgh, USA\n",
            "3                Luigi Rizzo  2009  Organizing   Universit� di Pisa, Italy\n",
            "4            Christophe Diot  2009  Organizing             Thomson, France\n",
            "1241\n"
          ]
        }
      ]
    },
    {
      "cell_type": "markdown",
      "source": [
        "Handling the case where names where unprintable characters are displayed for names or regions. We replace these with the actual characters using Unidecode and dictionary mappings."
      ],
      "metadata": {
        "id": "65bgLn8CZ7tp"
      }
    },
    {
      "cell_type": "code",
      "source": [
        "# Function to decode the string with fallback encoding\n",
        "def decode_with_fallback(text, primary_encoding, fallback_encoding):\n",
        "    try:\n",
        "        if isinstance(text, str):\n",
        "            return text.encode(primary_encoding).decode(primary_encoding)\n",
        "        else:\n",
        "            return str(text).encode(fallback_encoding).decode(fallback_encoding)\n",
        "    except UnicodeDecodeError:\n",
        "        return str(text).encode(fallback_encoding).decode(fallback_encoding)\n",
        "\n",
        "# Assign existing dataframe to a new one\n",
        "dfOutput = dfSigcomm\n",
        "# Apply the decoding function to create the 'cleanedName' and 'cleanedRegion' columns\n",
        "dfOutput['cleanedName'] = dfOutput['name'].apply(lambda x: decode_with_fallback(x, 'utf-8', 'unicode_escape'))\n",
        "dfOutput['cleanedRegion'] = dfOutput['region'].apply(lambda x: decode_with_fallback(x, 'utf-8', 'unicode_escape'))\n",
        "dfOutput['cleanedName'] = dfOutput['cleanedName'].str.replace('�', '')\n",
        "dfOutput['cleanedRegion'] = dfOutput['cleanedRegion'].str.replace('�', '')\n",
        "# Print the updated DataFrame\n",
        "print(dfOutput.head(10))"
      ],
      "metadata": {
        "colab": {
          "base_uri": "https://localhost:8080/"
        },
        "id": "uJeQzPfwmJWD",
        "outputId": "43885de9-9772-4cb2-c8a7-89ef1937685e"
      },
      "execution_count": 7,
      "outputs": [
        {
          "output_type": "stream",
          "name": "stdout",
          "text": [
            "                        name  year   committee  \\\n",
            "0            Pablo Rodriguez  2009  Organizing   \n",
            "1             Ernst Biersack  2009  Organizing   \n",
            "2  Konstantina  Papagiannaki  2009  Organizing   \n",
            "3                Luigi Rizzo  2009  Organizing   \n",
            "4            Christophe Diot  2009  Organizing   \n",
            "5                Dolors Sala  2009  Organizing   \n",
            "6      Jaudelice de Oliveira  2009  Organizing   \n",
            "7  Balachander Krishnamurthy  2009  Organizing   \n",
            "8               Ant Rowstron  2009  Organizing   \n",
            "9              Laurent Mathy  2009  Organizing   \n",
            "\n",
            "                            region                cleanedName  \\\n",
            "0       Telefonica Research, Spain            Pablo Rodriguez   \n",
            "1                  Eurecom, France             Ernst Biersack   \n",
            "2       Intel Labs Pittsburgh, USA  Konstantina  Papagiannaki   \n",
            "3        Universit� di Pisa, Italy                Luigi Rizzo   \n",
            "4                  Thomson, France            Christophe Diot   \n",
            "5  Universitat Pompeu Fabra, Spain                Dolors Sala   \n",
            "6           Drexel University, USA      Jaudelice de Oliveira   \n",
            "7          AT&T Labs-Research, USA  Balachander Krishnamurthy   \n",
            "8           Microsoft Research, UK               Ant Rowstron   \n",
            "9         Lancaster University, UK              Laurent Mathy   \n",
            "\n",
            "                     cleanedRegion  \n",
            "0       Telefonica Research, Spain  \n",
            "1                  Eurecom, France  \n",
            "2       Intel Labs Pittsburgh, USA  \n",
            "3         Universit di Pisa, Italy  \n",
            "4                  Thomson, France  \n",
            "5  Universitat Pompeu Fabra, Spain  \n",
            "6           Drexel University, USA  \n",
            "7          AT&T Labs-Research, USA  \n",
            "8           Microsoft Research, UK  \n",
            "9         Lancaster University, UK  \n"
          ]
        },
        {
          "output_type": "stream",
          "name": "stderr",
          "text": [
            "<ipython-input-7-3e5ca6d39358>:14: SettingWithCopyWarning: \n",
            "A value is trying to be set on a copy of a slice from a DataFrame.\n",
            "Try using .loc[row_indexer,col_indexer] = value instead\n",
            "\n",
            "See the caveats in the documentation: https://pandas.pydata.org/pandas-docs/stable/user_guide/indexing.html#returning-a-view-versus-a-copy\n",
            "  dfOutput['cleanedName'] = dfOutput['name'].apply(lambda x: decode_with_fallback(x, 'utf-8', 'unicode_escape'))\n",
            "<ipython-input-7-3e5ca6d39358>:15: SettingWithCopyWarning: \n",
            "A value is trying to be set on a copy of a slice from a DataFrame.\n",
            "Try using .loc[row_indexer,col_indexer] = value instead\n",
            "\n",
            "See the caveats in the documentation: https://pandas.pydata.org/pandas-docs/stable/user_guide/indexing.html#returning-a-view-versus-a-copy\n",
            "  dfOutput['cleanedRegion'] = dfOutput['region'].apply(lambda x: decode_with_fallback(x, 'utf-8', 'unicode_escape'))\n",
            "<ipython-input-7-3e5ca6d39358>:16: SettingWithCopyWarning: \n",
            "A value is trying to be set on a copy of a slice from a DataFrame.\n",
            "Try using .loc[row_indexer,col_indexer] = value instead\n",
            "\n",
            "See the caveats in the documentation: https://pandas.pydata.org/pandas-docs/stable/user_guide/indexing.html#returning-a-view-versus-a-copy\n",
            "  dfOutput['cleanedName'] = dfOutput['cleanedName'].str.replace('�', '')\n",
            "<ipython-input-7-3e5ca6d39358>:17: SettingWithCopyWarning: \n",
            "A value is trying to be set on a copy of a slice from a DataFrame.\n",
            "Try using .loc[row_indexer,col_indexer] = value instead\n",
            "\n",
            "See the caveats in the documentation: https://pandas.pydata.org/pandas-docs/stable/user_guide/indexing.html#returning-a-view-versus-a-copy\n",
            "  dfOutput['cleanedRegion'] = dfOutput['cleanedRegion'].str.replace('�', '')\n"
          ]
        }
      ]
    },
    {
      "cell_type": "code",
      "source": [
        "nameDict = {'Ãtalo Cunha':'Italo Cunha',\n",
        "'AndrÃƒÂ¡s CsÃƒÂ¡szÃƒÂ¡r':'Andras Csaszar',\n",
        "'AndrÃ¡s CsÃ¡szÃ¡r':'Andras Csaszar',\n",
        "'BalÃƒÂ¡zs Sonkoly':'Balazs Sonkoly',\n",
        "'BalÃ¡zs Sonkoly':'Balazs Sonkoly',\n",
        "'Emin GÃ¼n Sirer':'Emin Gun Sirer',\n",
        "'FabÃ­ola Greve':'Fabiola Greve',\n",
        "'FabiÃ¡n Bustamante':'Fabian Bustamente',\n",
        "'FabiÃ¡n E. Bustamante':'Fabian E. Bustamente',\n",
        "'FabiÃƒÂ¡n Bustamante':'Fabian Bustamente',\n",
        "'GÃƒÂ¡bor RÃƒÂ©tvÃƒÂ¡ri':'Gabor Retvari',\n",
        "'GÃ¡bor RÃ©tvÃ¡ri': 'Gabor Retvari',\n",
        "'IstvÃƒÂ¡n GÃƒÂ³dor':'Istvan Godor',\n",
        "'IstvÃ¡n GÃ³dor':'Istvan Godor',\n",
        "'JÃ¶rg Liebeherr':'Jaorg Liebeherr',\n",
        "'JÃ¶rg Ott':'Jaorg Ott',\n",
        "'JÃƒÂ¡nos Tapolcai':'Janos Tapolcai',\n",
        "'JÃ¡nos Tapolcai':'Janos Tapolcai',\n",
        "'Matthias WÃƒÂ¤hlisch':'Matthias Waschlisch',\n",
        "'Matthias WÃ¤hlisch':'Matthias Waschlisch',\n",
        "'Robert SoulÃƒÂ©':'Robert Soulac',\n",
        "'Robert SoulÃ©': 'Robert Soulac',\n",
        "'RubÃƒÂ©n Cuevas':'Rubaon Cuevas',\n",
        "'RubÃ©n Cuevas':'Rubaon Cuevas',\n",
        "'ZalÃƒÂ¡n Heszberger':'Zalan Heszberger',\n",
        "'ZalÃ¡n Heszberger':'Zalan Heszberger',\n",
        "'ZoltÃƒÂ¡n LÃƒÂ¡zÃƒÂ¡r':'Zoltan Lazar',\n",
        "'ZoltÃ¡n LÃ¡zÃ¡r':'Zoltan Lazar',\n",
        "'Cecilia Testart/p>': 'Cecilia Testart'}\n",
        "dfOutput['cleanedName'] = dfOutput['cleanedName'].map(nameDict).fillna(dfOutput['cleanedName'])\n",
        "print(dfOutput['cleanedName'])"
      ],
      "metadata": {
        "colab": {
          "base_uri": "https://localhost:8080/"
        },
        "id": "o2xdfozpMdrS",
        "outputId": "3e353c30-7b4c-4cc4-adc8-34ec83f40e47"
      },
      "execution_count": 8,
      "outputs": [
        {
          "output_type": "stream",
          "name": "stdout",
          "text": [
            "0                 Pablo Rodriguez\n",
            "1                  Ernst Biersack\n",
            "2       Konstantina  Papagiannaki\n",
            "3                     Luigi Rizzo\n",
            "4                 Christophe Diot\n",
            "                  ...            \n",
            "1236                   Yiting Xia\n",
            "1237                 Yiying Zhang\n",
            "1238                       Yu Hua\n",
            "1239                   Yunxin Liu\n",
            "1240                Zhizhen Zhong\n",
            "Name: cleanedName, Length: 1241, dtype: object\n"
          ]
        },
        {
          "output_type": "stream",
          "name": "stderr",
          "text": [
            "<ipython-input-8-326921f1e225>:30: SettingWithCopyWarning: \n",
            "A value is trying to be set on a copy of a slice from a DataFrame.\n",
            "Try using .loc[row_indexer,col_indexer] = value instead\n",
            "\n",
            "See the caveats in the documentation: https://pandas.pydata.org/pandas-docs/stable/user_guide/indexing.html#returning-a-view-versus-a-copy\n",
            "  dfOutput['cleanedName'] = dfOutput['cleanedName'].map(nameDict).fillna(dfOutput['cleanedName'])\n"
          ]
        }
      ]
    },
    {
      "cell_type": "code",
      "source": [
        "regionDict = {'Universitï¿½ di Pisa, Italy':'Universita di Pisa',\n",
        "'Universitat Politï¿½cnica de Catalunya, Spain':'Universitat Politecnica de Catalunya',\n",
        "'Universidad Autï¿½noma de Madrid, Spain':'Universidad Autonoma de Madrid',\n",
        "'Freie UniversitÃƒÂ¤t Berlin, Germany':'Freie Universitat Berlin',\n",
        "'Freie UniversitÃ¤t Berlin, Germany':'Freie Universitat Berlin',\n",
        "'University of WisconsinÃ¢Â€Â“Madison':'University of Wisconsin-Madison',\n",
        "'University of WisconsinâMadison':'University of Wisconsin-Madison',\n",
        "'Technische UniversitÃƒÂ¤t MÃƒÂ¼nchen':'Technische Universitat Munchen',\n",
        "'Technische UniversitÃ¤t MÃ¼nchen':'Technische Universitat Munchen',\n",
        "'UniversitÃ  di Pisa, Italy, USA':'Universita di Pisa',\n",
        "'ETH ZÃƒÂ¼rich':'ETH Zurich',\n",
        "'ETH ZÃ¼rich':'ETH Zurich',\n",
        "'UniversitÃƒÂ  della Svizzera italiana':'Universita della Svizzera Italiana',\n",
        "'UniversitÃƒÂ© catholique de Louvain':'Universite Catholique de Louvain',\n",
        "'''UniversitÃ© catholique de\n",
        "              Louvain''':'Universite Catholique de Louvain',\n",
        "'University of Illinois UrbanaÃ¢Â€Â“Champaign':'University of Illinois Urbana-Champaign',\n",
        "'University of Illinois UrbanaâChampaign':'University of Illinois Urbana-Champaign',\n",
        "'AT&T Labs - Research, USANikolaos LaoutarisTelefonica Research, SpainRatul MahajanMicrosoft Research, USADavid OranCisco, USAJitendra PadhyeMicrosoft Research, USAVenkat PadmanabhanMicrosoft Research, IndiaAdrian PerrigCarnegie Mellon University, USALili QiuUniversity of Texas at Austin, USAByrav RamamurthyUniversity of Nebraska-Lincoln, USADanny RazTechnion, IsraelScott RixnerRice University, USATimothy RoscoeETH Zurich, SwitzerlandMema RoussopoulosUniversity of Athens, GreeceStefan SavageU.C. San Diego, USASrinivasan SeshanCarnegie Mellon University, USADevavrat ShahMIT, USAScott ShenkerU.C. Berkeley, USAEmin Gün SirerCornell University, USAVijay SivaramanUniversity of New South Wales, AustraliaKun TanMicrosoft Research, ChinaAmin VahdatGoogle / U.C. San Diego, USAHelen WangMicrosoft Research, USAGordon WilfongBell Labs Research, USAWalter WillingerAT&T Labs - Research, USAAlec WolmanMicrosoft Research, USAYinglian XieMicrosoft Research, USARichard YangYale University, USAHaifeng YuNational University of Singapore, SingaporeEllen ZeguraGeorgia Tech, USAYin ZhangUniversity of Texas at Austin, USAYongguang ZhangMicrosoft Research, ChinaHeather ZhengU.C. Santa Barbara, USA':'AT&T Labs'}\n",
        "dfOutput['cleanedRegion'] = dfOutput['cleanedRegion'].map(nameDict).fillna(dfOutput['cleanedRegion'])\n",
        "print(dfOutput['cleanedRegion'])"
      ],
      "metadata": {
        "colab": {
          "base_uri": "https://localhost:8080/"
        },
        "id": "hVYhMZbjUY7d",
        "outputId": "1e612197-0ab2-45d1-b1c6-7fe3b26089f9"
      },
      "execution_count": 9,
      "outputs": [
        {
          "output_type": "stream",
          "name": "stdout",
          "text": [
            "0                              Telefonica Research, Spain\n",
            "1                                         Eurecom, France\n",
            "2                              Intel Labs Pittsburgh, USA\n",
            "3                                Universit di Pisa, Italy\n",
            "4                                         Thomson, France\n",
            "                              ...                        \n",
            "1236                 Max Planck Institute for Informatics\n",
            "1237                  University of California, San Diego\n",
            "1238        Huazhong University of Science and Technology\n",
            "1239    Institute for AI Industry Research (AIR), Tsin...\n",
            "1240                Massachusetts Institute of Technology\n",
            "Name: cleanedRegion, Length: 1241, dtype: object\n"
          ]
        },
        {
          "output_type": "stream",
          "name": "stderr",
          "text": [
            "<ipython-input-9-96c230394d59>:20: SettingWithCopyWarning: \n",
            "A value is trying to be set on a copy of a slice from a DataFrame.\n",
            "Try using .loc[row_indexer,col_indexer] = value instead\n",
            "\n",
            "See the caveats in the documentation: https://pandas.pydata.org/pandas-docs/stable/user_guide/indexing.html#returning-a-view-versus-a-copy\n",
            "  dfOutput['cleanedRegion'] = dfOutput['cleanedRegion'].map(nameDict).fillna(dfOutput['cleanedRegion'])\n"
          ]
        }
      ]
    },
    {
      "cell_type": "code",
      "source": [
        "# Print column names and data types\n",
        "for column_name, column_type in zip(dfOutput.columns, dfOutput.dtypes):\n",
        "    print(f\"Column Name: {column_name}, Data Type: {column_type}\")\n",
        "print(len(dfOutput))\n",
        "print(len(dfSigcomm))\n",
        "print(dfOutput.head(5))\n",
        "print()\n",
        "print(dfOutput['name'].head(5))"
      ],
      "metadata": {
        "colab": {
          "base_uri": "https://localhost:8080/"
        },
        "id": "eCVKwz6-qMiX",
        "outputId": "bfc79d40-523b-48a2-a1a8-d0f87e1162ae"
      },
      "execution_count": 10,
      "outputs": [
        {
          "output_type": "stream",
          "name": "stdout",
          "text": [
            "Column Name: name, Data Type: object\n",
            "Column Name: year, Data Type: object\n",
            "Column Name: committee, Data Type: object\n",
            "Column Name: region, Data Type: object\n",
            "Column Name: cleanedName, Data Type: object\n",
            "Column Name: cleanedRegion, Data Type: object\n",
            "1241\n",
            "1241\n",
            "                        name  year   committee                      region  \\\n",
            "0            Pablo Rodriguez  2009  Organizing  Telefonica Research, Spain   \n",
            "1             Ernst Biersack  2009  Organizing             Eurecom, France   \n",
            "2  Konstantina  Papagiannaki  2009  Organizing  Intel Labs Pittsburgh, USA   \n",
            "3                Luigi Rizzo  2009  Organizing   Universit� di Pisa, Italy   \n",
            "4            Christophe Diot  2009  Organizing             Thomson, France   \n",
            "\n",
            "                 cleanedName               cleanedRegion  \n",
            "0            Pablo Rodriguez  Telefonica Research, Spain  \n",
            "1             Ernst Biersack             Eurecom, France  \n",
            "2  Konstantina  Papagiannaki  Intel Labs Pittsburgh, USA  \n",
            "3                Luigi Rizzo    Universit di Pisa, Italy  \n",
            "4            Christophe Diot             Thomson, France  \n",
            "\n",
            "0              Pablo Rodriguez\n",
            "1               Ernst Biersack\n",
            "2    Konstantina  Papagiannaki\n",
            "3                  Luigi Rizzo\n",
            "4              Christophe Diot\n",
            "Name: name, dtype: object\n"
          ]
        }
      ]
    },
    {
      "cell_type": "markdown",
      "source": [
        "Here we use the geography libraries: If the institution read from the SIGCOMM website has a country listed, it will add the continent of the country to a dataframe column. If instead the institution is a specific location (like a university) but doesn't have the country listed, we map the location to a country which will be used to determine the continent."
      ],
      "metadata": {
        "id": "s_ZKhScbfDA3"
      }
    },
    {
      "cell_type": "code",
      "source": [
        "def get_continent(place):\n",
        "    # Mapping of location abbreviations to country names\n",
        "    location_mappings = {\n",
        "        'NUS': 'Singapore',\n",
        "        'Columbia|US|USA|Harvard|Stanford|George Washington|Irvine|West Point|Connecticut|Princeton|Purdue|Minnesota|Austin|San Diego|Pennsylvania|NYU|Chicago|Virginia|MIT|Georgia|Duke|Northeastern|California|Northwestern|Massachusetts|Carnegie|UCLA|CMU|Stony Brook|Wisconsin|Wisconsin-Madison|Rice|Colorado|Rutgers|Illinois|Boston|Florida|New York|Maryland|Michigan|Yale|Washington|Texas|Carolina|UC|Cornell|Brown|Oregon|USC|UCSB|Amherst|UIUC|Johns Hopkins|UWM|UWisc|Brown|UMich|UMass|Redmond|ICSI': 'United States',\n",
        "        'UK|London|Cambridge|Oxford|Southampton': 'United Kingdom',\n",
        "        'Karlstad|KTH': 'Sweden',\n",
        "        'Hong Kong|Chiao|Huazhong|Tsinghua|Fudan|Peking|HKUST|NTU': 'China',\n",
        "        'EPFL|Zurich|Svizzera|ETHZ': 'Switzerland',\n",
        "        'MPI-SWS|Planck|Munich|Brandenburg|Technische|Potsdam|MPI': 'Germany',\n",
        "        'Delft|Amsterdam|Twente': 'Netherlands',\n",
        "        'Jerusalem|Reichman': 'Israel',\n",
        "        'KAIST|Korea': 'South Korea',\n",
        "        'UNSW|Melbourne|Adelaide': 'Australia',\n",
        "        'Toronto|Waterloo': 'Canada',\n",
        "        'Budapest': 'Hungary',\n",
        "        'Abdullah': 'South Arabia',\n",
        "        'IMDEA': 'Spain',\n",
        "        'Linz|AIT|Austrian': 'Austria',\n",
        "        'Campinas|Passo Fundo': 'Brazil',\n",
        "        'Lisbon': 'Portugal',\n",
        "        'IIT': 'India',\n",
        "        'UCLouvain|Louvain': 'Belgium',\n",
        "        'Lahore|LUMS': 'Pakistan',\n",
        "        'Waikato': 'New Zealand',\n",
        "        'Bucharest': 'Romania',\n",
        "        'Inria': 'France',\n",
        "        'IIJ|NII': 'Japan'\n",
        "    }\n",
        "    # Wording manipulations to extract mappings\n",
        "    for abbreviation, full_name in location_mappings.items():\n",
        "        abbreviation_list = re.split(r'\\||\\s+', abbreviation)\n",
        "        abbreviation_regex = r'\\b({})\\b'.format('|'.join(re.escape(abbr) for abbr in abbreviation_list))\n",
        "        place = re.sub(abbreviation_regex, full_name, place, flags=re.IGNORECASE)\n",
        "\n",
        "    # Extract country from the place name\n",
        "    countries = GeoText(place).countries\n",
        "    if countries:\n",
        "        country = countries[0]\n",
        "    else:\n",
        "        return ''\n",
        "\n",
        "    # Remove extra text after country name\n",
        "    place = place.replace(country, '').strip(', ')\n",
        "\n",
        "    # Get continent based on country\n",
        "    geonames = GeonamesCache()\n",
        "    country_info = geonames.get_countries_by_names().get(country)\n",
        "    if country_info:\n",
        "        continent = country_info['continentcode']\n",
        "        if not continent:\n",
        "            return ''\n",
        "    else:\n",
        "        return ''\n",
        "\n",
        "    # If additional text exists, extract country from it\n",
        "    if place:\n",
        "        additional_countries = GeoText(place).countries\n",
        "        if additional_countries:\n",
        "            additional_country = additional_countries[0]\n",
        "            additional_country_info = geonames.get_countries_by_names().get(additional_country)\n",
        "            if additional_country_info:\n",
        "                continent = additional_country_info['continentcode']\n",
        "                if continent:\n",
        "                    return continent\n",
        "\n",
        "    return continent\n",
        "\n",
        "# Apply the get_continent function to the 'cleanedRegion' column in the DataFrame\n",
        "dfOutput['Continent'] = dfOutput['cleanedRegion'].apply(get_continent)\n",
        "dfOutput['Continent'].replace('NA', 'NorAm', inplace=True)\n",
        "# Print the updated DataFrame\n",
        "print(dfOutput.head(10))"
      ],
      "metadata": {
        "colab": {
          "base_uri": "https://localhost:8080/"
        },
        "id": "j5F9pHtqo7Tu",
        "outputId": "ff2364d3-9ebb-4bf8-cfcd-31fea627e4ac"
      },
      "execution_count": 11,
      "outputs": [
        {
          "output_type": "stream",
          "name": "stdout",
          "text": [
            "                        name  year   committee  \\\n",
            "0            Pablo Rodriguez  2009  Organizing   \n",
            "1             Ernst Biersack  2009  Organizing   \n",
            "2  Konstantina  Papagiannaki  2009  Organizing   \n",
            "3                Luigi Rizzo  2009  Organizing   \n",
            "4            Christophe Diot  2009  Organizing   \n",
            "5                Dolors Sala  2009  Organizing   \n",
            "6      Jaudelice de Oliveira  2009  Organizing   \n",
            "7  Balachander Krishnamurthy  2009  Organizing   \n",
            "8               Ant Rowstron  2009  Organizing   \n",
            "9              Laurent Mathy  2009  Organizing   \n",
            "\n",
            "                            region                cleanedName  \\\n",
            "0       Telefonica Research, Spain            Pablo Rodriguez   \n",
            "1                  Eurecom, France             Ernst Biersack   \n",
            "2       Intel Labs Pittsburgh, USA  Konstantina  Papagiannaki   \n",
            "3        Universit� di Pisa, Italy                Luigi Rizzo   \n",
            "4                  Thomson, France            Christophe Diot   \n",
            "5  Universitat Pompeu Fabra, Spain                Dolors Sala   \n",
            "6           Drexel University, USA      Jaudelice de Oliveira   \n",
            "7          AT&T Labs-Research, USA  Balachander Krishnamurthy   \n",
            "8           Microsoft Research, UK               Ant Rowstron   \n",
            "9         Lancaster University, UK              Laurent Mathy   \n",
            "\n",
            "                     cleanedRegion Continent  \n",
            "0       Telefonica Research, Spain        EU  \n",
            "1                  Eurecom, France        EU  \n",
            "2       Intel Labs Pittsburgh, USA     NorAm  \n",
            "3         Universit di Pisa, Italy        EU  \n",
            "4                  Thomson, France        EU  \n",
            "5  Universitat Pompeu Fabra, Spain        EU  \n",
            "6           Drexel University, USA     NorAm  \n",
            "7          AT&T Labs-Research, USA     NorAm  \n",
            "8           Microsoft Research, UK        EU  \n",
            "9         Lancaster University, UK        EU  \n"
          ]
        },
        {
          "output_type": "stream",
          "name": "stderr",
          "text": [
            "<ipython-input-11-93c951e91489>:70: SettingWithCopyWarning: \n",
            "A value is trying to be set on a copy of a slice from a DataFrame.\n",
            "Try using .loc[row_indexer,col_indexer] = value instead\n",
            "\n",
            "See the caveats in the documentation: https://pandas.pydata.org/pandas-docs/stable/user_guide/indexing.html#returning-a-view-versus-a-copy\n",
            "  dfOutput['Continent'] = dfOutput['cleanedRegion'].apply(get_continent)\n",
            "<ipython-input-11-93c951e91489>:71: SettingWithCopyWarning: \n",
            "A value is trying to be set on a copy of a slice from a DataFrame\n",
            "\n",
            "See the caveats in the documentation: https://pandas.pydata.org/pandas-docs/stable/user_guide/indexing.html#returning-a-view-versus-a-copy\n",
            "  dfOutput['Continent'].replace('NA', 'NorAm', inplace=True)\n"
          ]
        }
      ]
    },
    {
      "cell_type": "markdown",
      "source": [
        "Filling in values which are still missing or need to be changed."
      ],
      "metadata": {
        "id": "8Q_NQFj4fzaG"
      }
    },
    {
      "cell_type": "code",
      "source": [
        "data_dict = {\n",
        "    \"David Oran\": (\"Unknown\", \"NorAm\"),\n",
        "    \"Sam Leffler\": (\"Google\", \"NorAm\"),\n",
        "    \"Balachander Krishnamurthy\": (\"AT&T Labs\", \"NorAm\")\n",
        "}\n",
        "for name, (region, continent) in data_dict.items():\n",
        "    dfOutput.loc[dfOutput['cleanedName'] == name, 'region'] = region\n",
        "    dfOutput.loc[dfOutput['cleanedName'] == name, 'cleanedRegion'] = region\n",
        "    dfOutput.loc[dfOutput['cleanedName'] == name, 'Continent'] = continent"
      ],
      "metadata": {
        "id": "cOU-jQ9TAKe-"
      },
      "execution_count": 12,
      "outputs": []
    },
    {
      "cell_type": "markdown",
      "source": [
        "We write the current dataframe into a CSV file which will be read and analyzed in the next Google Colab."
      ],
      "metadata": {
        "id": "IbArvCaJgA7p"
      }
    },
    {
      "cell_type": "code",
      "source": [
        "dfOutput.to_csv(\"/content/gdrive/My Drive/Colab Notebooks/save_data/PublisherNames.csv\", sep=',', index=False, encoding='utf-8')"
      ],
      "metadata": {
        "id": "pTPZK6VotgtZ"
      },
      "execution_count": 13,
      "outputs": []
    }
  ]
}